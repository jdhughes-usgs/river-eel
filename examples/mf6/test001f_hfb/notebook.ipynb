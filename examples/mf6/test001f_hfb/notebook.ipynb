{
 "cells": [
  {
   "cell_type": "code",
   "execution_count": 2,
   "metadata": {
    "collapsed": false
   },
   "outputs": [],
   "source": [
    "%matplotlib inline\n",
    "import os\n",
    "import numpy as np\n",
    "import flopy\n",
    "import subprocess\n",
    "import shutil"
   ]
  },
  {
   "cell_type": "markdown",
   "metadata": {},
   "source": [
    "#Create MODFLOW-2005 Model"
   ]
  },
  {
   "cell_type": "code",
   "execution_count": 3,
   "metadata": {
    "collapsed": false
   },
   "outputs": [],
   "source": [
    "# Assign name and create modflow model object\n",
    "modelname = 'flow'\n",
    "model_ws = os.path.join('.', 'mf2005')\n",
    "exe_name = 'mf2005dbl.exe'\n",
    "mf = flopy.modflow.Modflow(modelname, model_ws=model_ws, exe_name=exe_name)"
   ]
  },
  {
   "cell_type": "code",
   "execution_count": 4,
   "metadata": {
    "collapsed": true
   },
   "outputs": [],
   "source": [
    "# Model domain and grid definition\n",
    "Lx = 1000.\n",
    "Ly = 1000.\n",
    "ztop = 10.\n",
    "zbot = -10.\n",
    "nlay = 1\n",
    "nrow = 1\n",
    "ncol = 10\n",
    "delr = Lx/ncol\n",
    "delc = Ly/nrow\n",
    "delv = (ztop - zbot) / nlay\n",
    "botm = np.linspace(ztop, zbot, nlay + 1)"
   ]
  },
  {
   "cell_type": "code",
   "execution_count": 5,
   "metadata": {
    "collapsed": false
   },
   "outputs": [],
   "source": [
    "# Create the discretization object\n",
    "dis = flopy.modflow.ModflowDis(mf, nlay, nrow, ncol, delr=delr, delc=delc,\n",
    "                               top=ztop, botm=botm[1:])\n",
    "\n",
    "# Variables for the BAS package\n",
    "ibound = np.ones((nlay, nrow, ncol), dtype=np.int32)\n",
    "ibound[:, :, 0] = -1\n",
    "ibound[:, :, -1] = -1\n",
    "strt = np.ones((nlay, nrow, ncol), dtype=np.float32)\n",
    "strt[:, :, 0] = 10.\n",
    "strt[:, :, -1] = 0.\n",
    "bas = flopy.modflow.ModflowBas(mf, ibound=ibound, strt=strt)\n",
    "\n",
    "# Add LPF package to the MODFLOW model\n",
    "lpf = flopy.modflow.ModflowLpf(mf, laytyp=1, layavg=1, hk=10., vka=10.)\n",
    "\n",
    "# Add OC package to the MODFLOW model\n",
    "oc = flopy.modflow.ModflowOc(mf)\n",
    "\n",
    "# Add PCG package to the MODFLOW model\n",
    "pcg = flopy.modflow.ModflowPcg(mf)"
   ]
  },
  {
   "cell_type": "code",
   "execution_count": 10,
   "metadata": {
    "collapsed": false
   },
   "outputs": [
    {
     "name": "stdout",
     "output_type": "stream",
     "text": [
      "FloPy is using the following executable to run the model: Z:\\Users\\langevin\\langevin\\bin\\win\\mf2005dbl.exe\n",
      "\n",
      "                                  MODFLOW-2005     \n",
      "    U.S. GEOLOGICAL SURVEY MODULAR FINITE-DIFFERENCE GROUND-WATER FLOW MODEL\n",
      "                             Version 1.11.00 8/8/2013                        \n",
      "\n",
      " Using NAME file: flow.nam \n",
      " Run start date and time (yyyy/mm/dd hh:mm:ss): 2015/04/10  8:57:48\n",
      "\n",
      " Solving:  Stress period:     1    Time step:     1    Ground-Water Flow Eqn.\n",
      " Run end date and time (yyyy/mm/dd hh:mm:ss): 2015/04/10  8:57:48\n",
      " Elapsed run time:  0.004 Seconds\n",
      "\n",
      "  Normal termination of simulation\n"
     ]
    }
   ],
   "source": [
    "# Write the MODFLOW model input files\n",
    "if os.path.isfile(modelname+'.hds'):\n",
    "    os.remove(modelname+'.hds')\n",
    "mf.write_input()\n",
    "success, buff = mf.run_model()"
   ]
  },
  {
   "cell_type": "code",
   "execution_count": 11,
   "metadata": {
    "collapsed": false
   },
   "outputs": [
    {
     "name": "stdout",
     "output_type": "stream",
     "text": [
      "[[[ 10.           9.14890647   8.25815415   7.32161576   6.33140022\n",
      "     5.27704652   4.14417019   2.91202404   1.54866527   0.        ]]]\n"
     ]
    },
    {
     "data": {
      "text/plain": [
       "[<matplotlib.lines.Line2D at 0xa72d7b8>]"
      ]
     },
     "execution_count": 11,
     "metadata": {},
     "output_type": "execute_result"
    },
    {
     "data": {
      "image/png": "[encoded data removed]",
      "text/plain": [
       "<matplotlib.figure.Figure at 0xa5e4630>"
      ]
     },
     "metadata": {},
     "output_type": "display_data"
    }
   ],
   "source": [
    "# Post process the results\n",
    "import matplotlib.pyplot as plt\n",
    "import flopy.utils.binaryfile as bf\n",
    "plt.subplot(1, 1, 1, aspect='equal')\n",
    "fname = os.path.join(model_ws, modelname + '.hds')\n",
    "hdobj = bf.HeadFile(fname, precision='double')\n",
    "times = hdobj.get_times()\n",
    "head = hdobj.get_data(totim=times[-1])\n",
    "print head\n",
    "plt.plot(head[0, 0, :], 'bo-')"
   ]
  },
  {
   "cell_type": "markdown",
   "metadata": {
    "collapsed": true
   },
   "source": [
    "#MODFLOW-2015 Model"
   ]
  },
  {
   "cell_type": "code",
   "execution_count": 16,
   "metadata": {
    "collapsed": false
   },
   "outputs": [],
   "source": [
    "mf5to15 = '/Users/langevin/langevin/dev/mf2015.git/mf5to15/msvs/mf5to15/Debug/mf5to15.exe'\n",
    "cwd = os.getcwd()\n",
    "os.chdir(model_ws)\n",
    "success = subprocess.check_call([mf5to15, modelname+'.nam', modelname+'15'])\n",
    "os.chdir(cwd)"
   ]
  },
  {
   "cell_type": "code",
   "execution_count": 17,
   "metadata": {
    "collapsed": false
   },
   "outputs": [
    {
     "name": "stdout",
     "output_type": "stream",
     "text": [
      "['mf2015.nam', 'flow15.dis', 'flow15.ic', 'flow15.nam', 'flow15.npf', 'flow15.oc', 'flow15.sms', 'flow15.tdis', 'flow15_constant.chd', 'flow15_conversion_messages.txt']\n"
     ]
    }
   ],
   "source": [
    "fnames = os.listdir(model_ws)\n",
    "srclist = ['mf2015.nam']\n",
    "for f in fnames:\n",
    "    if modelname+'15' in f:\n",
    "        srclist.append(f)\n",
    "print srclist"
   ]
  },
  {
   "cell_type": "code",
   "execution_count": 18,
   "metadata": {
    "collapsed": false
   },
   "outputs": [
    {
     "name": "stdout",
     "output_type": "stream",
     "text": [
      "moving  .\\mf2005\\mf2015.nam\n",
      "moving  .\\mf2005\\flow15.dis\n",
      "moving  .\\mf2005\\flow15.ic\n",
      "moving  .\\mf2005\\flow15.nam\n",
      "moving  .\\mf2005\\flow15.npf\n",
      "moving  .\\mf2005\\flow15.oc\n",
      "moving  .\\mf2005\\flow15.sms\n",
      "moving  .\\mf2005\\flow15.tdis\n",
      "moving  .\\mf2005\\flow15_constant.chd\n",
      "moving  .\\mf2005\\flow15_conversion_messages.txt\n"
     ]
    }
   ],
   "source": [
    "for f in srclist:\n",
    "    fname = os.path.join(model_ws, f)\n",
    "    print 'moving ', fname\n",
    "    if os.path.isfile(f):\n",
    "        print 'Removing ', f\n",
    "        os.remove(f)\n",
    "    shutil.move(fname, f)"
   ]
  },
  {
   "cell_type": "code",
   "execution_count": 19,
   "metadata": {
    "collapsed": true
   },
   "outputs": [],
   "source": [
    "# Make oc file\n",
    "mf15name = modelname + '15'\n",
    "f = open(mf15name + '.oc', 'w')\n",
    "s = '''\n",
    "BEGIN OPTIONS\n",
    "  HEAD SAVE FILE flow15_flow.hds\n",
    "  BUDGET SAVE FILE flow15_flow.cbc\n",
    "END OPTIONS\n",
    "\n",
    "BEGIN PERIOD 1\n",
    "  HEAD PRINT ALL\n",
    "  HEAD SAVE ALL\n",
    "  BUDGET PRINT ALL\n",
    "  BUDGET SAVE ALL\n",
    "END PERIOD\n",
    "'''\n",
    "f.write(s)\n",
    "f.close()"
   ]
  },
  {
   "cell_type": "code",
   "execution_count": 20,
   "metadata": {
    "collapsed": false
   },
   "outputs": [],
   "source": [
    "# Modify the name file to include oc and cbc\n",
    "fname = mf15name + '.nam'\n",
    "with open(fname, 'r') as f:\n",
    "    lines = f.readlines()\n",
    "\n",
    "f = open('temp.nam', 'w')\n",
    "for line in lines:\n",
    "    if 'END Input_Files' in line:\n",
    "        f.write('  OC8           flow15.oc' + '\\n')\n",
    "    f.write(line)\n",
    "f.close()\n",
    "\n",
    "os.remove(fname)\n",
    "shutil.move('temp.nam', fname)"
   ]
  },
  {
   "cell_type": "code",
   "execution_count": 21,
   "metadata": {
    "collapsed": true
   },
   "outputs": [],
   "source": [
    "success = subprocess.check_call(['runmodel.bat'])"
   ]
  },
  {
   "cell_type": "code",
   "execution_count": 26,
   "metadata": {
    "collapsed": false
   },
   "outputs": [
    {
     "name": "stdout",
     "output_type": "stream",
     "text": [
      "[[[ 10.           9.14890647   8.25815415   7.32161576   6.33140022\n",
      "     5.27704652   4.14417019   2.91202404   1.54866527   0.        ]]]\n"
     ]
    },
    {
     "data": {
      "text/plain": [
       "[<matplotlib.lines.Line2D at 0xb568eb8>]"
      ]
     },
     "execution_count": 26,
     "metadata": {},
     "output_type": "execute_result"
    },
    {
     "data": {
      "image/png": "[encoded data removed]",
      "text/plain": [
       "<matplotlib.figure.Figure at 0xb7857f0>"
      ]
     },
     "metadata": {},
     "output_type": "display_data"
    }
   ],
   "source": [
    "plt.subplot(1, 1, 1, aspect='equal')\n",
    "fname = os.path.join('.', mf15name + '_flow.hds')\n",
    "hdobj = bf.HeadFile(fname, precision='double')\n",
    "times = hdobj.get_times()\n",
    "head15 = hdobj.get_data(totim=times[-1])\n",
    "print head15\n",
    "plt.plot(head[0, 0, :], 'bo-')"
   ]
  },
  {
   "cell_type": "code",
   "execution_count": 27,
   "metadata": {
    "collapsed": false
   },
   "outputs": [
    {
     "name": "stdout",
     "output_type": "stream",
     "text": [
      "[[[  0.00000000e+00  -2.62900812e-13  -9.39692768e-13  -1.47704071e-12\n",
      "    -1.98152605e-12  -2.22311058e-12  -2.18225438e-12  -1.76125781e-12\n",
      "    -1.04316555e-12   0.00000000e+00]]]\n"
     ]
    },
    {
     "data": {
      "text/plain": [
       "[<matplotlib.lines.Line2D at 0xbb7c198>]"
      ]
     },
     "execution_count": 27,
     "metadata": {},
     "output_type": "execute_result"
    },
    {
     "data": {
      "image/png": "[encoded data removed]",
      "text/plain": [
       "<matplotlib.figure.Figure at 0xb8bfd30>"
      ]
     },
     "metadata": {},
     "output_type": "display_data"
    }
   ],
   "source": [
    "print head - head15\n",
    "plt.plot(head[0, 0, :]-head15[0, 0, :], 'bo-')"
   ]
  },
  {
   "cell_type": "code",
   "execution_count": null,
   "metadata": {
    "collapsed": true
   },
   "outputs": [],
   "source": []
  }
 ],
 "metadata": {
  "kernelspec": {
   "display_name": "Python 2",
   "language": "python",
   "name": "python2"
  },
  "language_info": {
   "codemirror_mode": {
    "name": "ipython",
    "version": 2
   },
   "file_extension": ".py",
   "mimetype": "text/x-python",
   "name": "python",
   "nbconvert_exporter": "python",
   "pygments_lexer": "ipython2",
   "version": "2.7.9"
  }
 },
 "nbformat": 4,
 "nbformat_minor": 0
}
